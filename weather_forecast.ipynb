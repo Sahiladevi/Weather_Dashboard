{
 "cells": [
  {
   "cell_type": "markdown",
   "id": "2cc62a03",
   "metadata": {},
   "source": [
    "## Import and Set Up"
   ]
  },
  {
   "cell_type": "code",
   "execution_count": 54,
   "id": "298abe8e",
   "metadata": {},
   "outputs": [],
   "source": [
    "import streamlit as st\n",
    "import pandas as pd\n",
    "import requests\n",
    "import plotly.express as px\n",
    "from datetime import datetime\n",
    "from tabulate import tabulate\n",
    "import matplotlib.pyplot as plt\n",
    "import seaborn as sns\n",
    "from dotenv import load_dotenv\n",
    "import os\n",
    "%matplotlib inline\n"
   ]
  },
  {
   "cell_type": "code",
   "execution_count": 55,
   "id": "b5337ea6",
   "metadata": {},
   "outputs": [],
   "source": [
    "# Base URLs\n",
    "CURRENT_WEATHER_URL = \"https://api.openweathermap.org/data/2.5/weather\"\n",
    "FORECAST_URL = \"https://api.openweathermap.org/data/2.5/forecast\""
   ]
  },
  {
   "cell_type": "code",
   "execution_count": 56,
   "id": "ff39bf97",
   "metadata": {},
   "outputs": [],
   "source": [
    "# Set API key here\n",
    "load_dotenv()  # Load variables from .env file\n",
    "API_KEY = os.getenv(\"OPENWEATHER_API_KEY\")"
   ]
  },
  {
   "cell_type": "markdown",
   "id": "f8222822",
   "metadata": {},
   "source": [
    "## Functions for getting location"
   ]
  },
  {
   "cell_type": "code",
   "execution_count": 57,
   "id": "65b9f8e6",
   "metadata": {},
   "outputs": [],
   "source": [
    "def get_user_location():\n",
    "    city = input(\"Enter city name: \").strip()\n",
    "    state = input(\"Enter state code (optional): \").strip()\n",
    "    country = input(\"Enter country code (e.g., US, GB): \").strip()\n",
    "    \n",
    "    # Construct the location string\n",
    "    location = f\"{city},{state},{country}\" if state else f\"{city},{country}\"\n",
    "    return location\n"
   ]
  },
  {
   "cell_type": "markdown",
   "id": "716834e3",
   "metadata": {},
   "source": [
    "## Function to retrieve current weather of given location."
   ]
  },
  {
   "cell_type": "code",
   "execution_count": 58,
   "id": "1dd19447",
   "metadata": {},
   "outputs": [],
   "source": [
    "def fetch_current_weather(location):\n",
    "    url = f'{CURRENT_WEATHER_URL}?q={location}&appid={API_KEY}&units=metric'\n",
    "    response = requests.get(url)\n",
    "    data = response.json()\n",
    "    \n",
    "    if response.status_code != 200:\n",
    "        print(f\"Error fetching data: {data.get('message', 'Unknown error')}\")\n",
    "        return None\n",
    "    \n",
    "    #print(data)\n",
    "\n",
    "    weather_info = {\n",
    "        'City': data['name'],\n",
    "        'Temperature (°C)': data['main']['temp'],\n",
    "        'Humidity (%)': data['main']['humidity'],\n",
    "        'Wind Speed (m/s)': data['wind']['speed'], \n",
    "        'feels_like (°C)': data['main']['feels_like'], \n",
    "        'temp_min (°C)': data['main']['temp_min'], \n",
    "        'temp_max (°C)': data['main']['temp_max'],                       \n",
    "        'Description': data['weather'][0]['description'].title()\n",
    "    }    \n",
    "\n",
    "    return pd.DataFrame([weather_info])"
   ]
  },
  {
   "cell_type": "markdown",
   "id": "98cafb14",
   "metadata": {},
   "source": [
    "## Function to retrieve forecast weather of given location"
   ]
  },
  {
   "cell_type": "code",
   "execution_count": 59,
   "id": "c8c9dbde",
   "metadata": {},
   "outputs": [],
   "source": [
    "def fetch_forecast(location):\n",
    "    url = f'{FORECAST_URL}?q={location}&appid={API_KEY}&units=metric'\n",
    "    response = requests.get(url)\n",
    "    data = response.json()\n",
    "\n",
    "    if response.status_code != 200:\n",
    "        print(f\"Error fetching forecast: {data.get('message', 'Unknown error')}\")\n",
    "        return None\n",
    "\n",
    "    forecast_list = data['list']\n",
    "    #print(forecast_list)\n",
    "\n",
    "    forecast_df = pd.DataFrame([{\n",
    "        'DateTime': item['dt_txt'],\n",
    "        'Temperature (°C)': item['main']['temp'],\n",
    "        'Humidity (%)': item['main']['humidity'],\n",
    "        'feels_like (°C)': item['main']['feels_like'], \n",
    "        'temp_min (°C)': item['main']['temp_min'], \n",
    "        'temp_max (°C)': item['main']['temp_max'],\n",
    "        'wind (m/s)': item['wind']['speed'], \n",
    "        #'visibility': item['visibility'],\n",
    "        'Weather': item['weather'][0]['description'].title()\n",
    "    } for item in forecast_list])\n",
    "\n",
    "    forecast_df['DateTime'] = pd.to_datetime(forecast_df['DateTime'])\n",
    "    forecast_df['Date'] = forecast_df['DateTime'].dt.date\n",
    "\n",
    "    return forecast_df"
   ]
  },
  {
   "cell_type": "markdown",
   "id": "dcf9ecda",
   "metadata": {},
   "source": [
    "## Summarize forecast report Generation"
   ]
  },
  {
   "cell_type": "code",
   "execution_count": 60,
   "id": "28485629",
   "metadata": {},
   "outputs": [],
   "source": [
    "def summarize_forecast(forecast_df):\n",
    "    summary_df = forecast_df.groupby('Date').agg({\n",
    "        'Temperature (°C)': ['mean', 'min', 'max'],\n",
    "        'Humidity (%)': 'mean',\n",
    "        'wind (m/s)': 'mean',\n",
    "        'Weather': lambda x: x.mode()[0] if not x.mode().empty else None\n",
    "    }).reset_index()\n",
    "\n",
    "    summary_df.columns = ['Date', 'Avg Temp (°C)', 'Min Temp (°C)', 'Max Temp (°C)', \n",
    "                          'Avg Humidity (%)', 'Avg Wind (m/s)', 'Most Common Weather']\n",
    "    return summary_df\n"
   ]
  },
  {
   "cell_type": "markdown",
   "id": "48c56686",
   "metadata": {},
   "source": [
    "##  Visualization Function"
   ]
  },
  {
   "cell_type": "code",
   "execution_count": 61,
   "id": "7cf71779",
   "metadata": {},
   "outputs": [],
   "source": [
    "def visualize_summary_1(summary_df):\n",
    "    sns.set(style=\"whitegrid\")\n",
    "    fig, ax = plt.subplots(2, 1, figsize=(12, 8), sharex=True)\n",
    "\n",
    "    # Temperature Plot\n",
    "    summary_df.plot(x='Date', y=['Min Temp (°C)', 'Avg Temp (°C)', 'Max Temp (°C)'],\n",
    "                    kind='line', marker='o', ax=ax[0])\n",
    "    ax[0].set_title('Temperature Trends')\n",
    "    ax[0].set_ylabel('°C')\n",
    "\n",
    "    # Humidity and Wind\n",
    "    ax2 = ax[1]\n",
    "    ax2.bar(summary_df['Date'], summary_df['Avg Humidity (%)'], alpha=0.6, label='Avg Humidity (%)')\n",
    "    ax2.plot(summary_df['Date'], summary_df['Avg Wind (m/s)'], color='red', marker='s', label='Avg Wind (m/s)')\n",
    "    ax2.set_title('Humidity and Wind Trends')\n",
    "    ax2.set_ylabel('% / m/s')\n",
    "    ax2.legend()\n",
    "\n",
    "    plt.xticks(rotation=45)\n",
    "    plt.tight_layout()\n",
    "    plt.show()\n"
   ]
  },
  {
   "cell_type": "code",
   "execution_count": 62,
   "id": "03309b6d",
   "metadata": {},
   "outputs": [],
   "source": [
    "def visualize_summary_2(summary_df):\n",
    "    plt.figure(figsize=(12, 6))\n",
    "    sns.set(style=\"whitegrid\")\n",
    "\n",
    "    # Plot Temperature\n",
    "    plt.subplot(1, 2, 1)\n",
    "    sns.lineplot(x='Date', y='Avg Temp (°C)', data=summary_df, marker='o', color='tomato')\n",
    "    plt.title('Average Temperature (°C) Over Days')\n",
    "    plt.xticks(rotation=45)\n",
    "    plt.tight_layout()\n",
    "\n",
    "    # Plot Humidity\n",
    "    plt.subplot(1, 2, 2)\n",
    "    sns.lineplot(x='Date', y='Avg Humidity (%)', data=summary_df, marker='o', color='dodgerblue')\n",
    "    plt.title('Average Humidity (%) Over Days')\n",
    "    plt.xticks(rotation=45)\n",
    "    plt.tight_layout()\n",
    "\n",
    "    plt.suptitle(\"5-Day Weather Forecast Summary\", fontsize=16, fontweight='bold', y=1.05)\n",
    "    plt.show()\n"
   ]
  },
  {
   "cell_type": "code",
   "execution_count": 63,
   "id": "cc8b6772",
   "metadata": {},
   "outputs": [],
   "source": [
    "\n",
    "def interactive_visualize_summary(summary_df):\n",
    "    fig = px.line(summary_df, x='Date', y=['Avg Temp (°C)', 'Avg Humidity (%)'],\n",
    "                  title='Interactive Daily Weather Summary',\n",
    "                  markers=True)\n",
    "    fig.update_layout(xaxis_title='Date', yaxis_title='Value')\n",
    "    fig.show()\n",
    "    fig.write_html(\"interactive_summary.html\")\n",
    "    print(\"Interactive plot saved as interactive_summary.html\")\n"
   ]
  },
  {
   "cell_type": "markdown",
   "id": "44c0b8a9",
   "metadata": {},
   "source": [
    "### Display Summary"
   ]
  },
  {
   "cell_type": "code",
   "execution_count": 64,
   "id": "b92bdaf4",
   "metadata": {},
   "outputs": [],
   "source": [
    "def display_summary_styled(summary_df):\n",
    "    styled_df = summary_df.style.background_gradient(subset=['Avg Temp (°C)'], cmap='coolwarm') \\\n",
    "                                 .background_gradient(subset=['Avg Humidity (%)'], cmap='Blues') \\\n",
    "                                 .set_caption(\"Daily Weather Summary\")\n",
    "    display(styled_df)  # Use display() if in Jupyter, else styled_df.to_html() for web\n",
    "    visualize_summary_1(summary_df)\n",
    "    visualize_summary_2(summary_df)\n",
    "    interactive_visualize_summary(summary_df)  \n"
   ]
  },
  {
   "cell_type": "code",
   "execution_count": 65,
   "id": "0a09d8ad",
   "metadata": {},
   "outputs": [],
   "source": [
    "def display_summary(summary_df):\n",
    "    print(\"\\n Daily Weather Summary:\")\n",
    "    print(tabulate(summary_df, headers='keys', tablefmt='fancy_grid', showindex=False))  \n",
    "    "
   ]
  },
  {
   "cell_type": "markdown",
   "id": "79f28eb2",
   "metadata": {},
   "source": [
    "### Main Function"
   ]
  },
  {
   "cell_type": "code",
   "execution_count": 66,
   "id": "5b16ae76",
   "metadata": {},
   "outputs": [
    {
     "name": "stdout",
     "output_type": "stream",
     "text": [
      "\n",
      " Fetching current weather...\n",
      "    City  Temperature (°C)  Humidity (%)  Wind Speed (m/s)  feels_like (°C)  \\\n",
      "0  Mason             23.68            85              1.54            24.32   \n",
      "\n",
      "   temp_min (°C)  temp_max (°C)    Description  \n",
      "0          22.57          24.92  Broken Clouds  \n",
      "\n",
      " Fetching 5-day forecast...\n",
      "\n",
      " Forecast Preview:\n",
      "             DateTime  Temperature (°C)  Humidity (%)  feels_like (°C)  \\\n",
      "0 2025-08-20 03:00:00             23.68            85            24.32   \n",
      "1 2025-08-20 06:00:00             23.60            88            24.31   \n",
      "2 2025-08-20 09:00:00             20.79            93            21.35   \n",
      "3 2025-08-20 12:00:00             20.12            92            20.59   \n",
      "4 2025-08-20 15:00:00             21.98            78            22.27   \n",
      "\n",
      "   temp_min (°C)  temp_max (°C)  wind (m/s)          Weather        Date  \n",
      "0          23.68          24.15        2.70       Light Rain  2025-08-20  \n",
      "1          23.44          23.60        2.22       Light Rain  2025-08-20  \n",
      "2          19.34          20.79        2.61  Overcast Clouds  2025-08-20  \n",
      "3          20.12          20.12        3.78  Overcast Clouds  2025-08-20  \n",
      "4          21.98          21.98        4.12  Overcast Clouds  2025-08-20  \n",
      "\n",
      " Daily Summary:\n"
     ]
    },
    {
     "data": {
      "text/html": [
       "<style type=\"text/css\">\n",
       "#T_8ff09_row0_col1 {\n",
       "  background-color: #b40426;\n",
       "  color: #f1f1f1;\n",
       "}\n",
       "#T_8ff09_row0_col4 {\n",
       "  background-color: #08306b;\n",
       "  color: #f1f1f1;\n",
       "}\n",
       "#T_8ff09_row1_col1 {\n",
       "  background-color: #f6bda2;\n",
       "  color: #000000;\n",
       "}\n",
       "#T_8ff09_row1_col4, #T_8ff09_row2_col4 {\n",
       "  background-color: #1c6bb0;\n",
       "  color: #f1f1f1;\n",
       "}\n",
       "#T_8ff09_row2_col1 {\n",
       "  background-color: #cfdaea;\n",
       "  color: #000000;\n",
       "}\n",
       "#T_8ff09_row3_col1 {\n",
       "  background-color: #da5a49;\n",
       "  color: #f1f1f1;\n",
       "}\n",
       "#T_8ff09_row3_col4 {\n",
       "  background-color: #63a8d3;\n",
       "  color: #f1f1f1;\n",
       "}\n",
       "#T_8ff09_row4_col1 {\n",
       "  background-color: #a5c3fe;\n",
       "  color: #000000;\n",
       "}\n",
       "#T_8ff09_row4_col4 {\n",
       "  background-color: #60a7d2;\n",
       "  color: #f1f1f1;\n",
       "}\n",
       "#T_8ff09_row5_col1 {\n",
       "  background-color: #3b4cc0;\n",
       "  color: #f1f1f1;\n",
       "}\n",
       "#T_8ff09_row5_col4 {\n",
       "  background-color: #f7fbff;\n",
       "  color: #000000;\n",
       "}\n",
       "</style>\n",
       "<table id=\"T_8ff09\">\n",
       "  <caption>Daily Weather Summary</caption>\n",
       "  <thead>\n",
       "    <tr>\n",
       "      <th class=\"blank level0\" >&nbsp;</th>\n",
       "      <th id=\"T_8ff09_level0_col0\" class=\"col_heading level0 col0\" >Date</th>\n",
       "      <th id=\"T_8ff09_level0_col1\" class=\"col_heading level0 col1\" >Avg Temp (°C)</th>\n",
       "      <th id=\"T_8ff09_level0_col2\" class=\"col_heading level0 col2\" >Min Temp (°C)</th>\n",
       "      <th id=\"T_8ff09_level0_col3\" class=\"col_heading level0 col3\" >Max Temp (°C)</th>\n",
       "      <th id=\"T_8ff09_level0_col4\" class=\"col_heading level0 col4\" >Avg Humidity (%)</th>\n",
       "      <th id=\"T_8ff09_level0_col5\" class=\"col_heading level0 col5\" >Avg Wind (m/s)</th>\n",
       "      <th id=\"T_8ff09_level0_col6\" class=\"col_heading level0 col6\" >Most Common Weather</th>\n",
       "    </tr>\n",
       "  </thead>\n",
       "  <tbody>\n",
       "    <tr>\n",
       "      <th id=\"T_8ff09_level0_row0\" class=\"row_heading level0 row0\" >0</th>\n",
       "      <td id=\"T_8ff09_row0_col0\" class=\"data row0 col0\" >2025-08-20</td>\n",
       "      <td id=\"T_8ff09_row0_col1\" class=\"data row0 col1\" >23.020000</td>\n",
       "      <td id=\"T_8ff09_row0_col2\" class=\"data row0 col2\" >20.120000</td>\n",
       "      <td id=\"T_8ff09_row0_col3\" class=\"data row0 col3\" >25.880000</td>\n",
       "      <td id=\"T_8ff09_row0_col4\" class=\"data row0 col4\" >79.571429</td>\n",
       "      <td id=\"T_8ff09_row0_col5\" class=\"data row0 col5\" >3.631429</td>\n",
       "      <td id=\"T_8ff09_row0_col6\" class=\"data row0 col6\" >Overcast Clouds</td>\n",
       "    </tr>\n",
       "    <tr>\n",
       "      <th id=\"T_8ff09_level0_row1\" class=\"row_heading level0 row1\" >1</th>\n",
       "      <td id=\"T_8ff09_row1_col0\" class=\"data row1 col0\" >2025-08-21</td>\n",
       "      <td id=\"T_8ff09_row1_col1\" class=\"data row1 col1\" >21.857500</td>\n",
       "      <td id=\"T_8ff09_row1_col2\" class=\"data row1 col2\" >19.090000</td>\n",
       "      <td id=\"T_8ff09_row1_col3\" class=\"data row1 col3\" >27.290000</td>\n",
       "      <td id=\"T_8ff09_row1_col4\" class=\"data row1 col4\" >74.375000</td>\n",
       "      <td id=\"T_8ff09_row1_col5\" class=\"data row1 col5\" >4.030000</td>\n",
       "      <td id=\"T_8ff09_row1_col6\" class=\"data row1 col6\" >Overcast Clouds</td>\n",
       "    </tr>\n",
       "    <tr>\n",
       "      <th id=\"T_8ff09_level0_row2\" class=\"row_heading level0 row2\" >2</th>\n",
       "      <td id=\"T_8ff09_row2_col0\" class=\"data row2 col0\" >2025-08-22</td>\n",
       "      <td id=\"T_8ff09_row2_col1\" class=\"data row2 col1\" >21.203750</td>\n",
       "      <td id=\"T_8ff09_row2_col2\" class=\"data row2 col2\" >15.230000</td>\n",
       "      <td id=\"T_8ff09_row2_col3\" class=\"data row2 col3\" >29.090000</td>\n",
       "      <td id=\"T_8ff09_row2_col4\" class=\"data row2 col4\" >74.375000</td>\n",
       "      <td id=\"T_8ff09_row2_col5\" class=\"data row2 col5\" >2.535000</td>\n",
       "      <td id=\"T_8ff09_row2_col6\" class=\"data row2 col6\" >Clear Sky</td>\n",
       "    </tr>\n",
       "    <tr>\n",
       "      <th id=\"T_8ff09_level0_row3\" class=\"row_heading level0 row3\" >3</th>\n",
       "      <td id=\"T_8ff09_row3_col0\" class=\"data row3 col0\" >2025-08-23</td>\n",
       "      <td id=\"T_8ff09_row3_col1\" class=\"data row3 col1\" >22.633750</td>\n",
       "      <td id=\"T_8ff09_row3_col2\" class=\"data row3 col2\" >17.450000</td>\n",
       "      <td id=\"T_8ff09_row3_col3\" class=\"data row3 col3\" >29.260000</td>\n",
       "      <td id=\"T_8ff09_row3_col4\" class=\"data row3 col4\" >68.875000</td>\n",
       "      <td id=\"T_8ff09_row3_col5\" class=\"data row3 col5\" >2.265000</td>\n",
       "      <td id=\"T_8ff09_row3_col6\" class=\"data row3 col6\" >Clear Sky</td>\n",
       "    </tr>\n",
       "    <tr>\n",
       "      <th id=\"T_8ff09_level0_row4\" class=\"row_heading level0 row4\" >4</th>\n",
       "      <td id=\"T_8ff09_row4_col0\" class=\"data row4 col0\" >2025-08-24</td>\n",
       "      <td id=\"T_8ff09_row4_col1\" class=\"data row4 col1\" >20.765000</td>\n",
       "      <td id=\"T_8ff09_row4_col2\" class=\"data row4 col2\" >15.560000</td>\n",
       "      <td id=\"T_8ff09_row4_col3\" class=\"data row4 col3\" >25.640000</td>\n",
       "      <td id=\"T_8ff09_row4_col4\" class=\"data row4 col4\" >69.000000</td>\n",
       "      <td id=\"T_8ff09_row4_col5\" class=\"data row4 col5\" >3.257500</td>\n",
       "      <td id=\"T_8ff09_row4_col6\" class=\"data row4 col6\" >Clear Sky</td>\n",
       "    </tr>\n",
       "    <tr>\n",
       "      <th id=\"T_8ff09_level0_row5\" class=\"row_heading level0 row5\" >5</th>\n",
       "      <td id=\"T_8ff09_row5_col0\" class=\"data row5 col0\" >2025-08-25</td>\n",
       "      <td id=\"T_8ff09_row5_col1\" class=\"data row5 col1\" >19.710000</td>\n",
       "      <td id=\"T_8ff09_row5_col2\" class=\"data row5 col2\" >19.710000</td>\n",
       "      <td id=\"T_8ff09_row5_col3\" class=\"data row5 col3\" >19.710000</td>\n",
       "      <td id=\"T_8ff09_row5_col4\" class=\"data row5 col4\" >57.000000</td>\n",
       "      <td id=\"T_8ff09_row5_col5\" class=\"data row5 col5\" >4.140000</td>\n",
       "      <td id=\"T_8ff09_row5_col6\" class=\"data row5 col6\" >Clear Sky</td>\n",
       "    </tr>\n",
       "  </tbody>\n",
       "</table>\n"
      ],
      "text/plain": [
       "<pandas.io.formats.style.Styler at 0x1d66ade0050>"
      ]
     },
     "metadata": {},
     "output_type": "display_data"
    },
    {
     "data": {
      "image/png": "[encoded data removed]",
      "text/plain": [
       "<Figure size 1200x800 with 2 Axes>"
      ]
     },
     "metadata": {},
     "output_type": "display_data"
    },
    {
     "data": {
      "image/png": "[encoded data removed]",
      "text/plain": [
       "<Figure size 1200x600 with 2 Axes>"
      ]
     },
     "metadata": {},
     "output_type": "display_data"
    },
    {
     "data": {
      "application/vnd.plotly.v1+json": {
       "config": {
        "plotlyServerURL": "https://plot.ly"
       },
       "data": [
        {
         "hovertemplate": "variable=Avg Temp (°C)<br>Date=%{x}<br>value=%{y}<extra></extra>",
         "legendgroup": "Avg Temp (°C)",
         "line": {
          "color": "#000001",
          "dash": "solid"
         },
         "marker": {
          "symbol": "circle"
         },
         "mode": "lines+markers",
         "name": "Avg Temp (°C)",
         "orientation": "v",
         "showlegend": true,
         "type": "scatter",
         "x": [
          "2025-08-20",
          "2025-08-21",
          "2025-08-22",
          "2025-08-23",
          "2025-08-24",
          "2025-08-25"
         ],
         "xaxis": "x",
         "y": {
          "bdata": "hetRuB4FN0DrUbgehds1QFyPwvUoNDVACtejcD2iNkCkcD0K18M0QPYoXI/CtTNA",
          "dtype": "f8"
         },
         "yaxis": "y"
        },
        {
         "hovertemplate": "variable=Avg Humidity (%)<br>Date=%{x}<br>value=%{y}<extra></extra>",
         "legendgroup": "Avg Humidity (%)",
         "line": {
          "color": "#000002",
          "dash": "solid"
         },
         "marker": {
          "symbol": "circle"
         },
         "mode": "lines+markers",
         "name": "Avg Humidity (%)",
         "orientation": "v",
         "showlegend": true,
         "type": "scatter",
         "x": [
          "2025-08-20",
          "2025-08-21",
          "2025-08-22",
          "2025-08-23",
          "2025-08-24",
          "2025-08-25"
         ],
         "xaxis": "x",
         "y": {
          "bdata": "SZIkSZLkU0AAAAAAAJhSQAAAAAAAmFJAAAAAAAA4UUAAAAAAAEBRQAAAAAAAgExA",
          "dtype": "f8"
         },
         "yaxis": "y"
        }
       ],
       "layout": {
        "legend": {
         "title": {
          "text": "variable"
         },
         "tracegroupgap": 0
        },
        "template": {
         "data": {
          "candlestick": [
           {
            "decreasing": {
             "line": {
              "color": "#000033"
             }
            },
            "increasing": {
             "line": {
              "color": "#000032"
             }
            },
            "type": "candlestick"
           }
          ],
          "contour": [
           {
            "colorscale": [
             [
              0,
              "#000011"
             ],
             [
              0.1111111111111111,
              "#000012"
             ],
             [
              0.2222222222222222,
              "#000013"
             ],
             [
              0.3333333333333333,
              "#000014"
             ],
             [
              0.4444444444444444,
              "#000015"
             ],
             [
              0.5555555555555556,
              "#000016"
             ],
             [
              0.6666666666666666,
              "#000017"
             ],
             [
              0.7777777777777778,
              "#000018"
             ],
             [
              0.8888888888888888,
              "#000019"
             ],
             [
              1,
              "#000020"
             ]
            ],
            "type": "contour"
           }
          ],
          "contourcarpet": [
           {
            "colorscale": [
             [
              0,
              "#000011"
             ],
             [
              0.1111111111111111,
              "#000012"
             ],
             [
              0.2222222222222222,
              "#000013"
             ],
             [
              0.3333333333333333,
              "#000014"
             ],
             [
              0.4444444444444444,
              "#000015"
             ],
             [
              0.5555555555555556,
              "#000016"
             ],
             [
              0.6666666666666666,
              "#000017"
             ],
             [
              0.7777777777777778,
              "#000018"
             ],
             [
              0.8888888888888888,
              "#000019"
             ],
             [
              1,
              "#000020"
             ]
            ],
            "type": "contourcarpet"
           }
          ],
          "heatmap": [
           {
            "colorscale": [
             [
              0,
              "#000011"
             ],
             [
              0.1111111111111111,
              "#000012"
             ],
             [
              0.2222222222222222,
              "#000013"
             ],
             [
              0.3333333333333333,
              "#000014"
             ],
             [
              0.4444444444444444,
              "#000015"
             ],
             [
              0.5555555555555556,
              "#000016"
             ],
             [
              0.6666666666666666,
              "#000017"
             ],
             [
              0.7777777777777778,
              "#000018"
             ],
             [
              0.8888888888888888,
              "#000019"
             ],
             [
              1,
              "#000020"
             ]
            ],
            "type": "heatmap"
           }
          ],
          "histogram2d": [
           {
            "colorscale": [
             [
              0,
              "#000011"
             ],
             [
              0.1111111111111111,
              "#000012"
             ],
             [
              0.2222222222222222,
              "#000013"
             ],
             [
              0.3333333333333333,
              "#000014"
             ],
             [
              0.4444444444444444,
              "#000015"
             ],
             [
              0.5555555555555556,
              "#000016"
             ],
             [
              0.6666666666666666,
              "#000017"
             ],
             [
              0.7777777777777778,
              "#000018"
             ],
             [
              0.8888888888888888,
              "#000019"
             ],
             [
              1,
              "#000020"
             ]
            ],
            "type": "histogram2d"
           }
          ],
          "icicle": [
           {
            "textfont": {
             "color": "white"
            },
            "type": "icicle"
           }
          ],
          "sankey": [
           {
            "textfont": {
             "color": "#000036"
            },
            "type": "sankey"
           }
          ],
          "scatter": [
           {
            "marker": {
             "line": {
              "width": 0
             }
            },
            "type": "scatter"
           }
          ],
          "table": [
           {
            "cells": {
             "fill": {
              "color": "#000038"
             },
             "font": {
              "color": "#000037"
             },
             "line": {
              "color": "#000039"
             }
            },
            "header": {
             "fill": {
              "color": "#000040"
             },
             "font": {
              "color": "#000036"
             },
             "line": {
              "color": "#000039"
             }
            },
            "type": "table"
           }
          ],
          "waterfall": [
           {
            "connector": {
             "line": {
              "color": "#000036",
              "width": 2
             }
            },
            "decreasing": {
             "marker": {
              "color": "#000033"
             }
            },
            "increasing": {
             "marker": {
              "color": "#000032"
             }
            },
            "totals": {
             "marker": {
              "color": "#000034"
             }
            },
            "type": "waterfall"
           }
          ]
         },
         "layout": {
          "coloraxis": {
           "colorscale": [
            [
             0,
             "#000011"
            ],
            [
             0.1111111111111111,
             "#000012"
            ],
            [
             0.2222222222222222,
             "#000013"
            ],
            [
             0.3333333333333333,
             "#000014"
            ],
            [
             0.4444444444444444,
             "#000015"
            ],
            [
             0.5555555555555556,
             "#000016"
            ],
            [
             0.6666666666666666,
             "#000017"
            ],
            [
             0.7777777777777778,
             "#000018"
            ],
            [
             0.8888888888888888,
             "#000019"
            ],
            [
             1,
             "#000020"
            ]
           ]
          },
          "colorscale": {
           "diverging": [
            [
             0,
             "#000021"
            ],
            [
             0.1,
             "#000022"
            ],
            [
             0.2,
             "#000023"
            ],
            [
             0.3,
             "#000024"
            ],
            [
             0.4,
             "#000025"
            ],
            [
             0.5,
             "#000026"
            ],
            [
             0.6,
             "#000027"
            ],
            [
             0.7,
             "#000028"
            ],
            [
             0.8,
             "#000029"
            ],
            [
             0.9,
             "#000030"
            ],
            [
             1,
             "#000031"
            ]
           ],
           "sequential": [
            [
             0,
             "#000011"
            ],
            [
             0.1111111111111111,
             "#000012"
            ],
            [
             0.2222222222222222,
             "#000013"
            ],
            [
             0.3333333333333333,
             "#000014"
            ],
            [
             0.4444444444444444,
             "#000015"
            ],
            [
             0.5555555555555556,
             "#000016"
            ],
            [
             0.6666666666666666,
             "#000017"
            ],
            [
             0.7777777777777778,
             "#000018"
            ],
            [
             0.8888888888888888,
             "#000019"
            ],
            [
             1,
             "#000020"
            ]
           ],
           "sequentialminus": [
            [
             0,
             "#000011"
            ],
            [
             0.1111111111111111,
             "#000012"
            ],
            [
             0.2222222222222222,
             "#000013"
            ],
            [
             0.3333333333333333,
             "#000014"
            ],
            [
             0.4444444444444444,
             "#000015"
            ],
            [
             0.5555555555555556,
             "#000016"
            ],
            [
             0.6666666666666666,
             "#000017"
            ],
            [
             0.7777777777777778,
             "#000018"
            ],
            [
             0.8888888888888888,
             "#000019"
            ],
            [
             1,
             "#000020"
            ]
           ]
          },
          "colorway": [
           "#000001",
           "#000002",
           "#000003",
           "#000004",
           "#000005",
           "#000006",
           "#000007",
           "#000008",
           "#000009",
           "#000010"
          ]
         }
        },
        "title": {
         "text": "Interactive Daily Weather Summary"
        },
        "xaxis": {
         "anchor": "y",
         "domain": [
          0,
          1
         ],
         "title": {
          "text": "Date"
         }
        },
        "yaxis": {
         "anchor": "x",
         "domain": [
          0,
          1
         ],
         "title": {
          "text": "Value"
         }
        }
       }
      }
     },
     "metadata": {},
     "output_type": "display_data"
    },
    {
     "name": "stdout",
     "output_type": "stream",
     "text": [
      "Interactive plot saved as interactive_summary.html\n"
     ]
    }
   ],
   "source": [
    "def main():\n",
    "    location = get_user_location()\n",
    "\n",
    "    print(\"\\n Fetching current weather...\")\n",
    "    current_weather = fetch_current_weather(location)\n",
    "    if current_weather is not None:\n",
    "        print(current_weather)\n",
    "\n",
    "    print(\"\\n Fetching 5-day forecast...\")\n",
    "    forecast = fetch_forecast(location)\n",
    "    if forecast is not None:\n",
    "        print(\"\\n Forecast Preview:\")\n",
    "        print(forecast.head())\n",
    "\n",
    "        print(\"\\n Daily Summary:\")\n",
    "        summary = summarize_forecast(forecast)\n",
    "        display_summary_styled(summary)\n",
    "        # display_summary(summary)\n",
    "      \n",
    "# Run the program\n",
    "if __name__ == \"__main__\":\n",
    "    main()\n"
   ]
  },
  {
   "cell_type": "markdown",
   "id": "94abd21a",
   "metadata": {},
   "source": [
    "Interactive Summary can be viewed [here](https://sahiladevi.github.io/Weather_Dashboard/interactive_summary.html)\n"
   ]
  }
 ],
 "metadata": {
  "kernelspec": {
   "display_name": "Python (weather_dashboard)",
   "language": "python",
   "name": "venv"
  },
  "language_info": {
   "codemirror_mode": {
    "name": "ipython",
    "version": 3
   },
   "file_extension": ".py",
   "mimetype": "text/x-python",
   "name": "python",
   "nbconvert_exporter": "python",
   "pygments_lexer": "ipython3",
   "version": "3.13.1"
  }
 },
 "nbformat": 4,
 "nbformat_minor": 5
}
